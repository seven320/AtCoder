{
 "cells": [
  {
   "cell_type": "markdown",
   "metadata": {},
   "source": [
    "問題文\n",
    "\n",
    "東西一列に並んだ N\n",
    "個の島と N−1\n",
    "\n",
    "本の橋があります。\n",
    "\n",
    "i\n",
    "番目の橋は、西から i 番目の島と西から i+1\n",
    "\n",
    "番目の島を接続しています。\n",
    "\n",
    "ある日、いくつかの島同士で争いが起こり、島の住人たちから M\n",
    "\n",
    "個の要望がありました。\n",
    "\n",
    "要望 i\n",
    ": 西から ai 番目の島と西から bi\n",
    "\n",
    "番目の島の間で争いが起こったために、これらの島をいくつかの橋を渡って行き来できないようにしてほしい\n",
    "\n",
    "あなたは橋をいくつか取り除くことでこれら M\n",
    "\n",
    "個の要望全てを叶えることにしました。\n",
    "\n",
    "取り除く必要のある橋の本数の最小値を求めてください。\n",
    "問題文\n",
    "\n",
    "東西一列に並んだ N\n",
    "個の島と N−1\n",
    "\n",
    "本の橋があります。\n",
    "\n",
    "i\n",
    "番目の橋は、西から i 番目の島と西から i+1\n",
    "\n",
    "番目の島を接続しています。\n",
    "\n",
    "ある日、いくつかの島同士で争いが起こり、島の住人たちから M\n",
    "\n",
    "個の要望がありました。\n",
    "\n",
    "要望 i\n",
    ": 西から ai 番目の島と西から bi\n",
    "\n",
    "番目の島の間で争いが起こったために、これらの島をいくつかの橋を渡って行き来できないようにしてほしい\n",
    "\n",
    "あなたは橋をいくつか取り除くことでこれら M\n",
    "\n",
    "個の要望全てを叶えることにしました。\n",
    "\n",
    "取り除く必要のある橋の本数の最小値を求めてください。\n",
    "制約\n",
    "入力は全て整数である\n",
    "\n",
    "2≤N≤105\n",
    "1≤M≤105\n",
    "1≤ai<bi≤N\n",
    "組 (ai,bi)\n",
    "は全て異なる"
   ]
  },
  {
   "cell_type": "code",
   "execution_count": 7,
   "metadata": {},
   "outputs": [
    {
     "name": "stdout",
     "output_type": "stream",
     "text": [
      "5 2\n",
      "1 4\n",
      " 2 5\n"
     ]
    },
    {
     "ename": "AttributeError",
     "evalue": "'NoneType' object has no attribute 'reverse'",
     "output_type": "error",
     "traceback": [
      "\u001b[0;31m---------------------------------------------------------------------------\u001b[0m",
      "\u001b[0;31mAttributeError\u001b[0m                            Traceback (most recent call last)",
      "\u001b[0;32m<ipython-input-7-b2309004b3c2>\u001b[0m in \u001b[0;36m<module>\u001b[0;34m()\u001b[0m\n\u001b[1;32m     12\u001b[0m         \u001b[0ma\u001b[0m\u001b[0;34m[\u001b[0m\u001b[0mi\u001b[0m\u001b[0;34m]\u001b[0m \u001b[0;34m=\u001b[0m \u001b[0mb\u001b[0m\u001b[0;34m[\u001b[0m\u001b[0mi\u001b[0m\u001b[0;34m]\u001b[0m\u001b[0;34m\u001b[0m\u001b[0m\n\u001b[1;32m     13\u001b[0m         \u001b[0mb\u001b[0m\u001b[0;34m[\u001b[0m\u001b[0mi\u001b[0m\u001b[0;34m]\u001b[0m \u001b[0;34m=\u001b[0m \u001b[0mtem\u001b[0m\u001b[0;34m\u001b[0m\u001b[0m\n\u001b[0;32m---> 14\u001b[0;31m \u001b[0ma\u001b[0m\u001b[0;34m.\u001b[0m\u001b[0msort\u001b[0m\u001b[0;34m(\u001b[0m\u001b[0;34m)\u001b[0m\u001b[0;34m.\u001b[0m\u001b[0mreverse\u001b[0m\u001b[0;34m(\u001b[0m\u001b[0;34m)\u001b[0m\u001b[0;34m\u001b[0m\u001b[0m\n\u001b[0m\u001b[1;32m     15\u001b[0m \u001b[0ma\u001b[0m\u001b[0;34m\u001b[0m\u001b[0m\n",
      "\u001b[0;31mAttributeError\u001b[0m: 'NoneType' object has no attribute 'reverse'"
     ]
    }
   ],
   "source": [
    "n, m = map(int, input().split())\n",
    "a = []\n",
    "b = []\n",
    "for i in range(m):\n",
    "    ai, bi = map(int, input().split())\n",
    "    a.append(ai)\n",
    "    b.append(bi)\n",
    "    \n",
    "for i in range(m):\n",
    "    if a[i] > b[i]:\n",
    "        tem = a[i]\n",
    "        a[i] = b[i]\n",
    "        b[i] = tem\n",
    "b.sort()\n"
   ]
  },
  {
   "cell_type": "code",
   "execution_count": null,
   "metadata": {},
   "outputs": [],
   "source": []
  }
 ],
 "metadata": {
  "kernelspec": {
   "display_name": "Python 3",
   "language": "python",
   "name": "python3"
  },
  "language_info": {
   "codemirror_mode": {
    "name": "ipython",
    "version": 3
   },
   "file_extension": ".py",
   "mimetype": "text/x-python",
   "name": "python",
   "nbconvert_exporter": "python",
   "pygments_lexer": "ipython3",
   "version": "3.6.4rc1"
  }
 },
 "nbformat": 4,
 "nbformat_minor": 2
}
